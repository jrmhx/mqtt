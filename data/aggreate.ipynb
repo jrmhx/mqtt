{
 "cells": [
  {
   "cell_type": "code",
   "execution_count": 4,
   "metadata": {},
   "outputs": [
    {
     "name": "stdout",
     "output_type": "stream",
     "text": [
      "  pub_id P2B_QoS A2B_QoS Delay_(ms)  Instance_Count  Total_Messages_Received  \\\n",
      "0      0       0       0          0             1.0                 121134.0   \n",
      "1      0       0       0          0             2.0                 111543.0   \n",
      "2      1       0       0          0             2.0                 110379.0   \n",
      "3      0       0       0          0             3.0                 108672.0   \n",
      "4      1       0       0          0             3.0                 106894.0   \n",
      "\n",
      "   Expected_Messages_Received  Message_Loss_Rate_(%)  \\\n",
      "0                    121135.0                    0.0   \n",
      "1                    111544.0                    0.0   \n",
      "2                    110380.0                    0.0   \n",
      "3                    108673.0                    0.0   \n",
      "4                    106895.0                    0.0   \n",
      "\n",
      "   Out_of_Order_Message_Rate_(%)  Median_Inter_Message_Gap_(ms)  \\\n",
      "0                            0.0                            0.0   \n",
      "1                            0.0                            0.0   \n",
      "2                            0.0                            0.0   \n",
      "3                            0.0                            0.0   \n",
      "4                            0.0                            0.0   \n",
      "\n",
      "   msg_rate_(msg/s)  \n",
      "0        112682.791  \n",
      "1        211354.286  \n",
      "2        211354.286  \n",
      "3        306718.269  \n",
      "4        306718.269  \n"
     ]
    }
   ],
   "source": [
    "import matplotlib.pyplot as plt\n",
    "import seaborn as sns\n",
    "import pandas as pd\n",
    "import numpy as np\n",
    "\n",
    "# Load the CSV file into a DataFrame\n",
    "df = pd.read_csv('result.csv')\n",
    "\n",
    "# drop the rows with NaN values\n",
    "df.dropna(inplace=True)\n",
    "\n",
    "print(df.head())\n",
    "\n",
    "# Discard the 'pub_id' column\n",
    "df.drop(columns=['pub_id'], inplace=True)\n",
    "\n",
    "# Define the aggregation rules\n",
    "aggregation_rules = {\n",
    "    'Total_Messages_Received': 'sum',\n",
    "    'Expected_Messages_Received': 'sum',\n",
    "    'Message_Loss_Rate_(%)': 'mean',\n",
    "    'Out_of_Order_Message_Rate_(%)': 'mean',\n",
    "    'Median_Inter_Message_Gap_(ms)': 'mean',\n",
    "    'msg_rate_(msg/s)': 'mean'\n",
    "}\n",
    "\n",
    "# Aggregate the data based on specified columns\n",
    "aggregated_df = df.groupby(['P2B_QoS', 'A2B_QoS', 'Delay_(ms)', 'Instance_Count']).agg(aggregation_rules).reset_index()\n",
    "\n",
    "aggregated_df.head()\n",
    "\n",
    "# Save the result to a new CSV file\n",
    "aggregated_df.to_csv('aggregated_result.csv', index=False)\n",
    "\n"
   ]
  }
 ],
 "metadata": {
  "kernelspec": {
   "display_name": "base",
   "language": "python",
   "name": "python3"
  },
  "language_info": {
   "codemirror_mode": {
    "name": "ipython",
    "version": 3
   },
   "file_extension": ".py",
   "mimetype": "text/x-python",
   "name": "python",
   "nbconvert_exporter": "python",
   "pygments_lexer": "ipython3",
   "version": "3.11.7"
  }
 },
 "nbformat": 4,
 "nbformat_minor": 2
}
